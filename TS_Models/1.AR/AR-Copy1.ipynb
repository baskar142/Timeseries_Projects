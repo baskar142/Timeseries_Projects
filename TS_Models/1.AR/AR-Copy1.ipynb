{
 "cells": [
  {
   "cell_type": "code",
   "execution_count": 1,
   "id": "f83f7506",
   "metadata": {},
   "outputs": [
    {
     "ename": "ImportError",
     "evalue": "cannot import name 'graph' from 'forcast1' (C:\\New folder\\Hope AI\\Time Series\\All_Models\\VR\\forcast1.py)",
     "output_type": "error",
     "traceback": [
      "\u001b[1;31m---------------------------------------------------------------------------\u001b[0m",
      "\u001b[1;31mImportError\u001b[0m                               Traceback (most recent call last)",
      "\u001b[1;32m~\\AppData\\Local\\Temp\\ipykernel_24404\\1447880123.py\u001b[0m in \u001b[0;36m<module>\u001b[1;34m\u001b[0m\n\u001b[0;32m      5\u001b[0m \u001b[1;32mfrom\u001b[0m \u001b[0mstatsmodels\u001b[0m\u001b[1;33m.\u001b[0m\u001b[0mtsa\u001b[0m\u001b[1;33m.\u001b[0m\u001b[0mar_model\u001b[0m \u001b[1;32mimport\u001b[0m \u001b[0mAutoReg\u001b[0m\u001b[1;33m\u001b[0m\u001b[1;33m\u001b[0m\u001b[0m\n\u001b[0;32m      6\u001b[0m \u001b[1;32mimport\u001b[0m \u001b[0mmatplotlib\u001b[0m\u001b[1;33m.\u001b[0m\u001b[0mpyplot\u001b[0m \u001b[1;32mas\u001b[0m \u001b[0mplt\u001b[0m\u001b[1;33m\u001b[0m\u001b[1;33m\u001b[0m\u001b[0m\n\u001b[1;32m----> 7\u001b[1;33m \u001b[1;32mfrom\u001b[0m \u001b[0mforcast1\u001b[0m \u001b[1;32mimport\u001b[0m \u001b[0mgraph\u001b[0m\u001b[1;33m,\u001b[0m \u001b[0mconversionSingle\u001b[0m\u001b[1;33m,\u001b[0m \u001b[0mrmsemape\u001b[0m\u001b[1;33m\u001b[0m\u001b[1;33m\u001b[0m\u001b[0m\n\u001b[0m",
      "\u001b[1;31mImportError\u001b[0m: cannot import name 'graph' from 'forcast1' (C:\\New folder\\Hope AI\\Time Series\\All_Models\\VR\\forcast1.py)"
     ]
    }
   ],
   "source": [
    "import pandas as pd\n",
    "import numpy as np\n",
    "from sklearn.preprocessing import MinMaxScaler\n",
    "from sklearn.metrics import mean_squared_error, mean_absolute_percentage_error\n",
    "from statsmodels.tsa.ar_model import AutoReg\n",
    "import matplotlib.pyplot as plt\n",
    "from forcast1 import graph, conversionSingle, rmsemape"
   ]
  },
  {
   "cell_type": "code",
   "execution_count": null,
   "id": "fee29045",
   "metadata": {},
   "outputs": [],
   "source": [
    "# Import the graph function from Forecasting.py\n",
    "from Forecasting import graph"
   ]
  },
  {
   "cell_type": "code",
   "execution_count": null,
   "id": "d0da027f",
   "metadata": {},
   "outputs": [],
   "source": [
    "from Forcasting import TimeSeriesForecastingUtils\n",
    "\n"
   ]
  },
  {
   "cell_type": "code",
   "execution_count": null,
   "id": "5864e4ed",
   "metadata": {},
   "outputs": [],
   "source": [
    "graph = Forcasting()"
   ]
  },
  {
   "cell_type": "code",
   "execution_count": null,
   "id": "7965ed54",
   "metadata": {},
   "outputs": [],
   "source": [
    "# Load your data\n",
    "import pandas as pd\n",
    "data_url = 'https://raw.githubusercontent.com/jbrownlee/Datasets/master/airline-passengers.csv'\n",
    "data = pd.read_csv(data_url, parse_dates=['Month'], index_col='Month')\n",
    "data = data.rename(columns={'Passengers': 'Passenger_Count'})\n"
   ]
  },
  {
   "cell_type": "code",
   "execution_count": null,
   "id": "ab6d9074",
   "metadata": {},
   "outputs": [],
   "source": [
    "data.head()"
   ]
  },
  {
   "cell_type": "code",
   "execution_count": null,
   "id": "e951a5b4",
   "metadata": {},
   "outputs": [],
   "source": [
    "# Initialize the utility class\n",
    "forecast_utils = TimeSeriesForecastingUtils(data)"
   ]
  },
  {
   "cell_type": "code",
   "execution_count": null,
   "id": "9c627c68",
   "metadata": {},
   "outputs": [],
   "source": [
    "# Scale data\n",
    "scaler = MinMaxScaler()\n",
    "data_scaled = scaler.fit_transform(data[['Passenger_Count']])\n",
    "print(\"Len:\", data_scaled.shape)"
   ]
  },
  {
   "cell_type": "code",
   "execution_count": null,
   "id": "50841835",
   "metadata": {},
   "outputs": [],
   "source": [
    "# Split data into train and test sets\n",
    "training_size = round(len(data_scaled) * 0.80)\n",
    "print(\"Training Size:\", training_size)\n"
   ]
  },
  {
   "cell_type": "code",
   "execution_count": null,
   "id": "7ded07fe",
   "metadata": {},
   "outputs": [],
   "source": [
    "X_train = data_scaled[:training_size]\n",
    "X_test = data_scaled[training_size:]\n",
    "print(\"X_train length:\", X_train.shape)\n",
    "print(\"X_test length:\", X_test.shape)\n",
    "\n",
    "y_train = data_scaled[:training_size]\n",
    "y_test = data_scaled[training_size:]\n",
    "print(\"y_train length:\", y_train.shape)\n",
    "print(\"y_test length:\", y_test.shape)"
   ]
  },
  {
   "cell_type": "code",
   "execution_count": null,
   "id": "f6628e5d",
   "metadata": {},
   "outputs": [],
   "source": [
    "# Train and evaluate AR model\n",
    "trends = ['n', 't', 'c', 'ct']\n",
    "lags = [1, 2, 3, 4]\n",
    "\n",
    "for i in lags:\n",
    "    for td in trends:\n",
    "        model = AutoReg(X_train, lags=i, trend=td)\n",
    "        model_fit = model.fit()\n",
    "        y_pred = model_fit.predict(len(X_train), len(data_scaled)-1)\n",
    "        \n",
    "        print(\"Lag={}, Trend={}\".format(i, td))\n",
    "        print(\"RMSE-Testset:\", mean_squared_error(y_test, y_pred, squared=False))\n",
    "        print(\"MAPE-Testset:\", mean_absolute_percentage_error(y_test, y_pred))\n",
    "        print(\"************\")"
   ]
  },
  {
   "cell_type": "code",
   "execution_count": null,
   "id": "782e0d50",
   "metadata": {},
   "outputs": [],
   "source": [
    "\n",
    "# Fit model with specific parameters\n",
    "i = 4\n",
    "td = 'ct'\n",
    "model = AutoReg(X_train, lags=i, trend=td)\n",
    "model_fit = model.fit()\n",
    "y_pred = model_fit.predict(len(X_train), len(data_scaled)-1)"
   ]
  },
  {
   "cell_type": "code",
   "execution_count": null,
   "id": "7971283b",
   "metadata": {},
   "outputs": [],
   "source": [
    "print(\"Lag={}, Trend={}\".format(i, td))\n",
    "print(\"RMSE-Testset:\", mean_squared_error(y_test, y_pred, squared=False))\n",
    "print(\"MAPE-Testset:\", mean_absolute_percentage_error(y_test, y_pred))\n",
    "print(\"************\")"
   ]
  },
  {
   "cell_type": "code",
   "execution_count": null,
   "id": "5166b881",
   "metadata": {},
   "outputs": [],
   "source": [
    "# Plot actual vs predicted\n",
    "graph(y_test, y_pred, \"Actual\", \"Predicted\", \"Airline Passenger Data - AR Model\", \"Days\", \"Passenger Count\")"
   ]
  },
  {
   "cell_type": "code",
   "execution_count": null,
   "id": "60468a8d",
   "metadata": {},
   "outputs": [],
   "source": []
  }
 ],
 "metadata": {
  "kernelspec": {
   "display_name": "Python 3 (ipykernel)",
   "language": "python",
   "name": "python3"
  },
  "language_info": {
   "codemirror_mode": {
    "name": "ipython",
    "version": 3
   },
   "file_extension": ".py",
   "mimetype": "text/x-python",
   "name": "python",
   "nbconvert_exporter": "python",
   "pygments_lexer": "ipython3",
   "version": "3.9.13"
  }
 },
 "nbformat": 4,
 "nbformat_minor": 5
}
